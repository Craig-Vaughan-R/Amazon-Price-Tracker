{
 "cells": [
  {
   "cell_type": "code",
   "execution_count": 101,
   "id": "464830fc",
   "metadata": {},
   "outputs": [],
   "source": [
    "#Import libraries \n",
    "from bs4 import BeautifulSoup\n",
    "import requests\n",
    "import time\n",
    "import datetime\n",
    "import smtplib\n",
    "import datetime\n",
    "import csv\n",
    "import pandas as pd"
   ]
  },
  {
   "cell_type": "code",
   "execution_count": 102,
   "id": "de94d782",
   "metadata": {},
   "outputs": [
    {
     "name": "stdout",
     "output_type": "stream",
     "text": [
      "\n",
      "             Sunon Electric Height Adjustable Standing Desk 120 X 60cm,Sit Stand Desk with Whole Board for Home Working,White\n",
      "            \n",
      "£178.00\n"
     ]
    }
   ],
   "source": [
    "#Connect to website and pull data\n",
    "\n",
    "URL = 'https://www.amazon.co.uk/Sunon-Electric-Adjustable-Standing-Working/dp/B0C328M1K5/ref=sr_1_2_sspa?crid=ZDHGTRUX8NL&dib=eyJ2IjoiMSJ9.6HLwO5trPs6PQNnbNzeku8WfL25O08fU-4fG0vXcawqjsZXm9LYvCeFyU_2A7bmS1qq4iB3nXAibMy_1Cm0896NOo3m0sJAv7rxHoLdhjLynEBR0SzB4meqHUU9Y9xkaX3356GCYQbLPn9NgNqM5i44yXfvY-gE6y4q11fIWemXV_WTqPD4yvm9xv0ftcM0Jr2B__i-ZavEftbVb-thM89XDjkqbo6rErIgt1CByvhrXN-LGxL8Nyi6WRtwZZyqEJYHIO7ZJ7YDNkmD8QdjTlJudPm8e5Km3o2D297XwSZY.7wOlM4GuLVC6YQPINw7Cx4IxwNPIDKAmDAS2W2_qLSc&dib_tag=se&keywords=standing+desk&qid=1713374116&sprefix=standing+desk%2Caps%2C470&sr=8-2-spons&ufe=app_do%3Aamzn1.fos.d7e5a2de-8759-4da3-993c-d11b6e3d217f&sp_csd=d2lkZ2V0TmFtZT1zcF9hdGY&psc=1&smid=A3QHWHWYUQW87A'\n",
    "headers = {\"User-Agent\": \"Mozilla/5.0 (Windows NT 10.0; Win64; x64) AppleWebKit/537.36 (KHTML, like Gecko) Chrome/123.0.0.0 Safari/537.36\", \"Accept-Encoding\":\"gzip, deflate\", \"Accept\":\"text/html,application/xhtml+xml,application/xml;q=0.9,*/*;q=0.8\", \"DNT\":\"1\",\"Connection\":\"close\", \"Upgrade-Insecure-Requests\":\"1\"}\n",
    "\n",
    "page = requests.get(URL, headers = headers)\n",
    "\n",
    "soup1 = BeautifulSoup (page.content, 'html.parser')\n",
    "\n",
    "soup2 = BeautifulSoup (soup1.prettify(),'html.parser')\n",
    "\n",
    "title = soup2.find(id='productTitle').get_text()\n",
    "\n",
    "price_symbol = soup2.find(class_='a-price-symbol').get_text(strip=True)\n",
    "price_whole = soup2.find(class_='a-price-whole').get_text(strip=True)\n",
    "price_fraction = soup2.find(class_='a-price-fraction').get_text(strip=True)\n",
    "price = f'{price_symbol}{price_whole}{price_fraction}'\n",
    "\n",
    "print(title)\n",
    "print(price)"
   ]
  },
  {
   "cell_type": "code",
   "execution_count": 103,
   "id": "ce719e95",
   "metadata": {
    "scrolled": true
   },
   "outputs": [
    {
     "name": "stdout",
     "output_type": "stream",
     "text": [
      "Sunon Electric Height Adjustable Standing Desk 120 X 60cm,Sit Stand Desk with Whole Board for Home Working,White\n",
      "178.00\n"
     ]
    }
   ],
   "source": [
    "#Clean up the data\n",
    "\n",
    "price = price.strip()[1:]\n",
    "title = title.strip() \n",
    "\n",
    "print(title)\n",
    "print(price)"
   ]
  },
  {
   "cell_type": "code",
   "execution_count": 104,
   "id": "b4cc3e9f",
   "metadata": {},
   "outputs": [
    {
     "name": "stdout",
     "output_type": "stream",
     "text": [
      "2024-04-17\n"
     ]
    }
   ],
   "source": [
    "#Create timestamp to track when data was collected\n",
    "today = datetime.date.today()\n",
    "\n",
    "print(today)"
   ]
  },
  {
   "cell_type": "code",
   "execution_count": 105,
   "id": "9d602486",
   "metadata": {},
   "outputs": [],
   "source": [
    "#Create CSV files and write headers and data into file  \n",
    "header = ['Title','Price', 'Date']\n",
    "data = [title, price, today]\n",
    "\n",
    "with open ('AmazonSunonStandingDesk.csv','w', newline='', encoding='UTF8') as f:\n",
    "    writer=csv.writer(f) \n",
    "    writer.writerow(header)\n",
    "    writer.writerow(data)\n",
    "    "
   ]
  },
  {
   "cell_type": "code",
   "execution_count": 106,
   "id": "8c8fd6e4",
   "metadata": {},
   "outputs": [
    {
     "name": "stdout",
     "output_type": "stream",
     "text": [
      "                                               Title  Price        Date\n",
      "0  Sunon Electric Height Adjustable Standing Desk...  178.0  2024-04-17\n"
     ]
    }
   ],
   "source": [
    "df = pd.read_csv(r'C:\\Users\\Craig\\AmazonSunonStandingDesk.csv') \n",
    "print(df)"
   ]
  },
  {
   "cell_type": "code",
   "execution_count": 107,
   "id": "701659a3",
   "metadata": {},
   "outputs": [],
   "source": [
    "#Appending data to CSV file \n",
    "\n",
    "with open ('AmazonSunonStandingDesk.csv','a+', newline='', encoding='UTF8') as f:\n",
    "    writer=csv.writer(f) \n",
    "    writer.writerow(data)"
   ]
  },
  {
   "cell_type": "code",
   "execution_count": 108,
   "id": "6d6c92bb",
   "metadata": {},
   "outputs": [],
   "source": [
    "\n",
    "def check_price() : \n",
    "    \n",
    "    URL = 'https://www.amazon.co.uk/Sunon-Electric-Adjustable-Standing-Working/dp/B0C328M1K5/ref=sr_1_2_sspa?crid=ZDHGTRUX8NL&dib=eyJ2IjoiMSJ9.6HLwO5trPs6PQNnbNzeku8WfL25O08fU-4fG0vXcawqjsZXm9LYvCeFyU_2A7bmS1qq4iB3nXAibMy_1Cm0896NOo3m0sJAv7rxHoLdhjLynEBR0SzB4meqHUU9Y9xkaX3356GCYQbLPn9NgNqM5i44yXfvY-gE6y4q11fIWemXV_WTqPD4yvm9xv0ftcM0Jr2B__i-ZavEftbVb-thM89XDjkqbo6rErIgt1CByvhrXN-LGxL8Nyi6WRtwZZyqEJYHIO7ZJ7YDNkmD8QdjTlJudPm8e5Km3o2D297XwSZY.7wOlM4GuLVC6YQPINw7Cx4IxwNPIDKAmDAS2W2_qLSc&dib_tag=se&keywords=standing+desk&qid=1713374116&sprefix=standing+desk%2Caps%2C470&sr=8-2-spons&ufe=app_do%3Aamzn1.fos.d7e5a2de-8759-4da3-993c-d11b6e3d217f&sp_csd=d2lkZ2V0TmFtZT1zcF9hdGY&psc=1&smid=A3QHWHWYUQW87A'\n",
    "\n",
    "    headers = {\"User-Agent\": \"Mozilla/5.0 (Windows NT 10.0; Win64; x64) AppleWebKit/537.36 (KHTML, like Gecko) Chrome/123.0.0.0 Safari/537.36\", \"Accept-Encoding\":\"gzip, deflate\", \"Accept\":\"text/html,application/xhtml+xml,application/xml;q=0.9,*/*;q=0.8\", \"DNT\":\"1\",\"Connection\":\"close\", \"Upgrade-Insecure-Requests\":\"1\"}\n",
    "\n",
    "\n",
    "    page = requests.get(URL, headers = headers)\n",
    "\n",
    "    soup1 = BeautifulSoup (page.content, 'html.parser')\n",
    "\n",
    "    soup2 = BeautifulSoup (soup1.prettify(),'html.parser')\n",
    "\n",
    "    title = soup2.find(id='productTitle').get_text()\n",
    "    \n",
    "    price = f'{price_symbol}{price_whole}{price_fraction}'\n",
    "    \n",
    "    price = price.strip()[1:]\n",
    "    title = title.strip() \n",
    "    \n",
    "    today = datetime.date.today()\n",
    "\n",
    "    header = ['Title','Price', 'Date']\n",
    "    data = [title, price, today]\n",
    "    \n",
    "with open('AmazonSunonStandingDesk.csv','a+', newline='', encoding='UTF8') as f:\n",
    "    writer=csv.writer(f) \n",
    "    writer.writerow(data)\n",
    "    "
   ]
  },
  {
   "cell_type": "code",
   "execution_count": null,
   "id": "d9d48e1d",
   "metadata": {},
   "outputs": [],
   "source": [
    "#Checks price every 12 hours and inputs data into CSV file\n",
    "\n",
    "while (True): \n",
    "    check_price()\n",
    "    time.sleep(43200)"
   ]
  },
  {
   "cell_type": "code",
   "execution_count": null,
   "id": "cbb9842c",
   "metadata": {},
   "outputs": [],
   "source": [
    "df = pd.read_csv(r'C:\\Users\\Craig\\AmazonSunonStandingDesk.csv') \n",
    "print(df)"
   ]
  }
 ],
 "metadata": {
  "kernelspec": {
   "display_name": "Python 3 (ipykernel)",
   "language": "python",
   "name": "python3"
  },
  "language_info": {
   "codemirror_mode": {
    "name": "ipython",
    "version": 3
   },
   "file_extension": ".py",
   "mimetype": "text/x-python",
   "name": "python",
   "nbconvert_exporter": "python",
   "pygments_lexer": "ipython3",
   "version": "3.11.5"
  }
 },
 "nbformat": 4,
 "nbformat_minor": 5
}
